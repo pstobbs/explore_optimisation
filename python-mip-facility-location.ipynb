{
 "cells": [
  {
   "cell_type": "markdown",
   "id": "0d08abd8-8fcc-45db-bed2-0a358ba03d84",
   "metadata": {},
   "source": [
    "## using open source python-mip\n",
    "facility location example\n",
    "https://docs.python-mip.com/en/latest/examples.html (Plant location with non-linear costs)"
   ]
  },
  {
   "cell_type": "markdown",
   "id": "7ac40e4b-a19d-4f95-b082-d7c3f8009416",
   "metadata": {},
   "source": [
    "### Plant Location with Non-Linear Costs   \n",
    "One industry plans to install two plants, one to the west (region 1) and another to the east (region 2). It must decide also the production capacity of each plant and allocate clients with different demands to plants in order to minimize shipping costs, which depend on the distance to the selected plant. Clients can be served by facilities of both regions. The cost of installing a plant with capacity 𝑧 is 𝑓(𝑧)=1520log𝑧. The Figure below shows the distribution of clients in circles and possible plant locations as triangles.  \n",
    "  \n",
    "This example illustrates the use of Special Ordered Sets (SOS). We’ll use Type 1 SOS to ensure that only one of the plants in each region has a non-zero production capacity. The cost 𝑓(𝑧) of building a plant with capacity 𝑧 grows according to the non-linear function 𝑓(𝑧)=1520log𝑧. Type 2 SOS will be used to model the cost of installing each one of the plants in auxiliary variables 𝑦."
   ]
  },
  {
   "cell_type": "code",
   "execution_count": 1,
   "id": "b5d3035d-151b-42d8-9aa3-94e9182988e1",
   "metadata": {},
   "outputs": [],
   "source": [
    "#setup\n",
    "\n",
    "import matplotlib.pyplot as plt\n",
    "from math import sqrt, log\n",
    "from itertools import product\n",
    "from mip import Model, xsum, minimize, OptimizationStatus\n",
    "\n",
    "# possible plants\n",
    "F = [1, 2, 3, 4, 5, 6]\n",
    "\n",
    "# possible plant installation positions\n",
    "pf = {1: (1, 38), 2: (31, 40), 3: (23, 59), 4: (76, 51), 5: (93, 51), 6: (63, 74)}\n",
    "\n",
    "# maximum plant capacity\n",
    "c = {1: 1955, 2: 1932, 3: 1987, 4: 1823, 5: 1718, 6: 1742}\n",
    "\n",
    "# clients\n",
    "C = [1, 2, 3, 4, 5, 6, 7, 8, 9, 10]\n",
    "\n",
    "# position of clients\n",
    "pc = {1: (94, 10), 2: (57, 26), 3: (74, 44), 4: (27, 51), 5: (78, 30), 6: (23, 30), \n",
    "      7: (20, 72), 8: (3, 27), 9: (5, 39), 10: (51, 1)}\n",
    "\n",
    "# demands\n",
    "d = {1: 302, 2: 273, 3: 275, 4: 266, 5: 287, 6: 296, 7: 297, 8: 310, 9: 302, 10: 309}\n"
   ]
  },
  {
   "cell_type": "code",
   "execution_count": 2,
   "id": "388d4902-94d3-4f53-b9d7-258758e3b030",
   "metadata": {},
   "outputs": [
    {
     "data": {
      "text/plain": [
       "[<matplotlib.lines.Line2D at 0x11169ccd0>]"
      ]
     },
     "execution_count": 2,
     "metadata": {},
     "output_type": "execute_result"
    },
    {
     "data": {
      "image/png": "[encoded data removed]",
      "text/plain": [
       "<Figure size 640x480 with 1 Axes>"
      ]
     },
     "metadata": {},
     "output_type": "display_data"
    }
   ],
   "source": [
    "# plotting possible plant locations\n",
    "for i, p in pf.items():\n",
    "    plt.scatter((p[0]), (p[1]), marker=\"^\", color=\"purple\", s=50)\n",
    "    plt.text((p[0]), (p[1]), \"$f_%d$\" % i)\n",
    "\n",
    "# plotting location of clients\n",
    "for i, p in pc.items():\n",
    "    plt.scatter((p[0]), (p[1]), marker=\"o\", color=\"black\", s=15)\n",
    "    plt.text((p[0]), (p[1]), \"$c_{%d}$\" % i)\n",
    "\n",
    "plt.text((20), (78), \"Region 1\")\n",
    "plt.text((70), (78), \"Region 2\")\n",
    "plt.plot((50, 50), (0, 80))"
   ]
  },
  {
   "cell_type": "code",
   "execution_count": 5,
   "id": "11e3a4e1-03cf-4f0c-922c-7839dc9f2948",
   "metadata": {},
   "outputs": [
    {
     "name": "stdout",
     "output_type": "stream",
     "text": [
      "Distance calculations\n"
     ]
    },
    {
     "data": {
      "text/plain": [
       "{(1, 1): 97.1,\n",
       " (1, 2): 57.3,\n",
       " (1, 3): 73.2,\n",
       " (1, 4): 29.1,\n",
       " (1, 5): 77.4,\n",
       " (1, 6): 23.4,\n",
       " (1, 7): 38.9,\n",
       " (1, 8): 11.2,\n",
       " (1, 9): 4.1,\n",
       " (1, 10): 62.2,\n",
       " (2, 1): 69.8,\n",
       " (2, 2): 29.5,\n",
       " (2, 3): 43.2,\n",
       " (2, 4): 11.7,\n",
       " (2, 5): 48.1,\n",
       " (2, 6): 12.8,\n",
       " (2, 7): 33.8,\n",
       " (2, 8): 30.9,\n",
       " (2, 9): 26.0,\n",
       " (2, 10): 43.8,\n",
       " (3, 1): 86.3,\n",
       " (3, 2): 47.4,\n",
       " (3, 3): 53.2,\n",
       " (3, 4): 8.9,\n",
       " (3, 5): 62.2,\n",
       " (3, 6): 29.0,\n",
       " (3, 7): 13.3,\n",
       " (3, 8): 37.7,\n",
       " (3, 9): 26.9,\n",
       " (3, 10): 64.4,\n",
       " (4, 1): 44.8,\n",
       " (4, 2): 31.4,\n",
       " (4, 3): 7.3,\n",
       " (4, 4): 49.0,\n",
       " (4, 5): 21.1,\n",
       " (4, 6): 57.0,\n",
       " (4, 7): 59.8,\n",
       " (4, 8): 76.8,\n",
       " (4, 9): 72.0,\n",
       " (4, 10): 55.9,\n",
       " (5, 1): 41.0,\n",
       " (5, 2): 43.8,\n",
       " (5, 3): 20.2,\n",
       " (5, 4): 66.0,\n",
       " (5, 5): 25.8,\n",
       " (5, 6): 73.1,\n",
       " (5, 7): 76.0,\n",
       " (5, 8): 93.1,\n",
       " (5, 9): 88.8,\n",
       " (5, 10): 65.3,\n",
       " (6, 1): 71.1,\n",
       " (6, 2): 48.4,\n",
       " (6, 3): 32.0,\n",
       " (6, 4): 42.7,\n",
       " (6, 5): 46.5,\n",
       " (6, 6): 59.5,\n",
       " (6, 7): 43.0,\n",
       " (6, 8): 76.2,\n",
       " (6, 9): 67.7,\n",
       " (6, 10): 74.0}"
      ]
     },
     "execution_count": 5,
     "metadata": {},
     "output_type": "execute_result"
    }
   ],
   "source": [
    "#compute distances between all plants and all customers\n",
    "\n",
    "dist = {(f, c): round(sqrt((pf[f][0] - pc[c][0]) ** 2 + (pf[f][1] - pc[c][1]) ** 2), 1)\n",
    "        for (f, c) in product(F, C) }\n",
    "print(\"Distance calculations\")\n",
    "dist"
   ]
  },
  {
   "cell_type": "code",
   "execution_count": 8,
   "id": "af1612d7-8735-4df7-b2f2-19956fc5f4ac",
   "metadata": {},
   "outputs": [],
   "source": [
    "#setup model and add in plants and capacity\n",
    "\n",
    "m = Model(solver_name='CBC') #tries to use gurobi if installed\n",
    "\n",
    "z = {i: m.add_var(ub=c[i]) for i in F}  # plant capacity\n"
   ]
  },
  {
   "cell_type": "code",
   "execution_count": 11,
   "id": "3560d53f-b485-4900-8cd6-ab98e71c13f8",
   "metadata": {},
   "outputs": [],
   "source": [
    "#using special ordered sets\n",
    "# Type 1 SOS: only one plant per region\n",
    "for r in [0, 1]:\n",
    "    # set of plants in region r\n",
    "    Fr = [i for i in F if r * 50 <= pf[i][0] <= 50 + r * 50]\n",
    "    m.add_sos([(z[i], i - 1) for i in Fr], 1)"
   ]
  },
  {
   "cell_type": "code",
   "execution_count": 23,
   "id": "b45d8679-72e7-4b30-bfa1-40531c859741",
   "metadata": {},
   "outputs": [],
   "source": [
    "# amount that plant i will supply to client j\n",
    "x = {(i, j): m.add_var() for (i, j) in product(F, C)}"
   ]
  },
  {
   "cell_type": "code",
   "execution_count": 24,
   "id": "5051c269-876e-44bd-9955-8751993881a4",
   "metadata": {},
   "outputs": [],
   "source": [
    "# satisfy demand\n",
    "# make sure supply from plants (i) meets overall demand for clients in C\n",
    "for j in C:\n",
    "    m += xsum(x[(i, j)] for i in F) == d[j]"
   ]
  },
  {
   "cell_type": "code",
   "execution_count": 26,
   "id": "f3b1c0f4-03bb-43a6-b6b3-5025830c0d27",
   "metadata": {},
   "outputs": [],
   "source": [
    "# type 2 SOS to model installation costs for each installed plant\n",
    "# non linear cost 𝑓(𝑧)=1520log𝑧\n",
    "\n",
    "y = {i: m.add_var() for i in F}\n",
    "for f in F:\n",
    "    D = 6  # nr. of discretization points, increase for more precision\n",
    "    v = [c[f] * (v / (D - 1)) for v in range(D)]  # points\n",
    "    # non-linear function values for points in v\n",
    "    vn = [0 if k == 0 else 1520 * log(v[k]) for k in range(D)]  \n",
    "    # w variables\n",
    "    w = [m.add_var() for v in range(D)]\n",
    "    m += xsum(w) == 1  # convexification\n",
    "    # link to z vars\n",
    "    m += z[f] == xsum(v[k] * w[k] for k in range(D))\n",
    "    # link to y vars associated with non-linear cost\n",
    "    m += y[f] == xsum(vn[k] * w[k] for k in range(D))\n",
    "    m.add_sos([(w[k], v[k]) for k in range(D)], 2)\n",
    "    \n",
    "    "
   ]
  },
  {
   "cell_type": "code",
   "execution_count": 27,
   "id": "aa0bc9e1-ec2c-4b09-8ec2-ba7f19839dbe",
   "metadata": {},
   "outputs": [],
   "source": [
    "# plant capacity\n",
    "for i in F:\n",
    "    m += z[i] >= xsum(x[(i, j)] for j in C)"
   ]
  },
  {
   "cell_type": "code",
   "execution_count": 28,
   "id": "143153f7-1ea1-45cf-aba8-ba6dc44b9a2c",
   "metadata": {},
   "outputs": [
    {
     "name": "stdout",
     "output_type": "stream",
     "text": [
      "Welcome to the CBC MILP Solver \n",
      "Version: Trunk\n",
      "Build Date: Oct 28 2021 \n",
      "\n",
      "Starting solution of the Linear programming problem using Dual Simplex\n",
      "\n",
      "Clp0024I Matrix will be packed to eliminate 12 small elements\n",
      "Coin0506I Presolve 28 (-6) rows, 96 (-72) columns and 192 (-42) elements\n",
      "Clp0000I Optimal - objective value 74461.17\n",
      "Coin0511I After Postsolve, objective 74461.17, infeasibilities - dual 0 (0), primal 0 (0)\n",
      "Clp0032I Optimal objective 74461.16986 - 20 iterations time 0.002, Presolve 0.00\n",
      "Cbc3007W No integer variables\n",
      "\n",
      "Starting MIP optimization\n"
     ]
    },
    {
     "data": {
      "text/plain": [
       "<OptimizationStatus.OPTIMAL: 0>"
      ]
     },
     "execution_count": 28,
     "metadata": {},
     "output_type": "execute_result"
    }
   ],
   "source": [
    "# objective function: minimise shipping costs (distance) and installation costs\n",
    "m.objective = minimize(\n",
    "    xsum(dist[i, j] * x[i, j] for (i, j) in product(F, C)) + xsum(y[i] for i in F) )\n",
    "\n",
    "#optimise\n",
    "m.optimize()"
   ]
  },
  {
   "cell_type": "code",
   "execution_count": 29,
   "id": "818cbadb-ee4e-4eda-9881-4299b1e3a48f",
   "metadata": {},
   "outputs": [
    {
     "name": "stdout",
     "output_type": "stream",
     "text": [
      "Solution with cost 99733.94905406164 found.\n",
      "Facilities capacities: [0.0, 1932.0, 0.0, 985.0, 0.0, 0.0] \n",
      "Facilities cost: [0.0, 11500.792742454143, 0.0, 10452.156311607516, 0.0, 0.0]\n"
     ]
    },
    {
     "data": {
      "image/png": "[encoded data removed]",
      "text/plain": [
       "<Figure size 640x480 with 1 Axes>"
      ]
     },
     "metadata": {},
     "output_type": "display_data"
    }
   ],
   "source": [
    "#plot\n",
    "\n",
    "if m.num_solutions:\n",
    "    print(\"Solution with cost {} found.\".format(m.objective_value))\n",
    "    print(\"Facilities capacities: {} \".format([z[f].x for f in F]))\n",
    "    print(\"Facilities cost: {}\".format([y[f].x for f in F]))\n",
    "\n",
    "    # plotting allocations\n",
    "    for (i, j) in [(i, j) for (i, j) in product(F, C) if x[(i, j)].x >= 1e-6]:\n",
    "        plt.plot(\n",
    "            (pf[i][0], pc[j][0]), (pf[i][1], pc[j][1]), linestyle=\"--\", color=\"darkgray\"\n",
    "        )"
   ]
  },
  {
   "cell_type": "code",
   "execution_count": null,
   "id": "10464fe1-cfd8-4c3d-9e82-aae5d9835978",
   "metadata": {},
   "outputs": [],
   "source": []
  }
 ],
 "metadata": {
  "kernelspec": {
   "display_name": "Python 3 (ipykernel)",
   "language": "python",
   "name": "python3"
  },
  "language_info": {
   "codemirror_mode": {
    "name": "ipython",
    "version": 3
   },
   "file_extension": ".py",
   "mimetype": "text/x-python",
   "name": "python",
   "nbconvert_exporter": "python",
   "pygments_lexer": "ipython3",
   "version": "3.9.13"
  }
 },
 "nbformat": 4,
 "nbformat_minor": 5
}
